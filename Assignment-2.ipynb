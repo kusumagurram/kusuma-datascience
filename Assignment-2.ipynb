{
 "cells": [
  {
   "cell_type": "markdown",
   "metadata": {},
   "source": [
    "# Assignment-2"
   ]
  },
  {
   "cell_type": "markdown",
   "metadata": {},
   "source": [
    "TASK1"
   ]
  },
  {
   "cell_type": "markdown",
   "metadata": {},
   "source": [
    "1.1\n",
    "Write a Python Program to implement your own myreduce() function which works exactly like\n",
    "Python's built-in function reduce()\n"
   ]
  },
  {
   "cell_type": "code",
   "execution_count": 1,
   "metadata": {},
   "outputs": [
    {
     "name": "stdout",
     "output_type": "stream",
     "text": [
      "Sum of all element in list a : 3\n",
      "Product of all elements in list a : 2\n"
     ]
    }
   ],
   "source": [
    "def myreduce(fun, alist):\n",
    "    x = alist[0]\n",
    "    for i in range(1, len(alist)):\n",
    "        x = fun(x, alist[i])\n",
    "        return x  \n",
    "def summ(x1, x2):\n",
    "        return x1 + x2  \n",
    "def Product(x1, x2):\n",
    "        return(x1 * x2)  \n",
    "a = [1, 2, 3, 4, 5]\n",
    "print(\"Sum of all element in list a :\", myreduce(summ, a))\n",
    "print(\"Product of all elements in list a :\", myreduce(Product, a))"
   ]
  },
  {
   "cell_type": "markdown",
   "metadata": {},
   "source": [
    "1.2\n",
    "Write a Python program to implement your own myfilter() function which works exactly like\n",
    "Python's built-in function filter()\n"
   ]
  },
  {
   "cell_type": "code",
   "execution_count": 2,
   "metadata": {},
   "outputs": [
    {
     "name": "stdout",
     "output_type": "stream",
     "text": [
      "The filtered vowels are:\n",
      "a\n",
      "e\n",
      "i\n",
      "o\n"
     ]
    }
   ],
   "source": [
    "alphabets = ['a', 'b', 'd', 'e', 'i', 'j', 'o']\n",
    "\n",
    "def filterVowels(alphabet):\n",
    "    vowels = ['a', 'e', 'i', 'o', 'u']\n",
    "\n",
    "    if(alphabet in vowels):\n",
    "        return True\n",
    "    else:\n",
    "        return False\n",
    "\n",
    "filteredVowels = filter(filterVowels, alphabets)\n",
    "\n",
    "print('The filtered vowels are:')\n",
    "for vowel in filteredVowels:\n",
    "    print(vowel)"
   ]
  },
  {
   "cell_type": "markdown",
   "metadata": {},
   "source": [
    "2.\n",
    "Implement List comprehensions to produce the following lists.\n",
    "Write List comprehensions to produce the following Lists\n"
   ]
  },
  {
   "cell_type": "code",
   "execution_count": 3,
   "metadata": {},
   "outputs": [
    {
     "name": "stdout",
     "output_type": "stream",
     "text": [
      "['A', 'C', 'A', 'D', 'G', 'I', 'L', 'D']\n",
      "['x', 'xx', 'xxx', 'xxxx', 'y', 'yy', 'yyy', 'yyyy', 'z', 'zz', 'zzz', 'zzzz']\n",
      "['x', 'y', 'z', 'xx', 'yy', 'zz', 'xxx', 'yyy', 'zzz', 'xxxx', 'yyyy', 'zzzz']\n",
      "[[2], [3], [4], [3], [4], [5], [4], [5], [6]]\n",
      "[[2, 3, 4, 5], [3, 4, 5, 6], [4, 5, 6, 7], [5, 6, 7, 8]]\n",
      "[(1, 1), (2, 1), (3, 1), (1, 2), (2, 2), (3, 2), (1, 3), (2, 3), (3, 3)]\n"
     ]
    }
   ],
   "source": [
    "letters = list(map(lambda x: x, 'ACADGILD'))\n",
    "print(letters)\n",
    "input_list = ['x','y','z']\n",
    "result = [ item*num for item in input_list for num in range(1,5)  ]\n",
    "print(str(result))\n",
    "result1 = [ item*num for num in range(1,5) for item in input_list  ]\n",
    "print(str(result1))\n",
    "input_list = [2,3,4]\n",
    "result = [ [item+num] for item in input_list for num in range(0,3)]\n",
    "print(str(result))\n",
    "input_list = [2,3,4,5]\n",
    "result = [ [item+num for item in input_list] for num in range(0,4)  ]\n",
    "print(str(result))\n",
    "input_list=[1,2,3]\n",
    "result = [ (b,a) for a in input_list for b in input_list]\n",
    "print(str(result))\n"
   ]
  },
  {
   "cell_type": "markdown",
   "metadata": {},
   "source": [
    "3.Implement a function longestWord() that takes a list of words and returns the longest one."
   ]
  },
  {
   "cell_type": "code",
   "execution_count": 4,
   "metadata": {},
   "outputs": [
    {
     "data": {
      "text/plain": [
       "['hyderabad', 'banglore']"
      ]
     },
     "execution_count": 4,
     "metadata": {},
     "output_type": "execute_result"
    }
   ],
   "source": [
    "lst = ['goa','delhi','hyderabad','banglore','chennai']\n",
    "def longestword(lst,n):\n",
    "    return [i for i in lst if len(i)>n]\n",
    "longestword(lst,7)"
   ]
  },
  {
   "cell_type": "markdown",
   "metadata": {},
   "source": [
    "# Task-2"
   ]
  },
  {
   "cell_type": "markdown",
   "metadata": {},
   "source": [
    "1.1\n",
    "Write a Python Program(with class concepts) to find the area of the triangle using the below\n",
    "formula.\n",
    "area = (s*(s-a)*(s-b)*(s-c)) ** 0.5\n"
   ]
  },
  {
   "cell_type": "code",
   "execution_count": 6,
   "metadata": {},
   "outputs": [
    {
     "data": {
      "text/plain": [
       "9.921567416492215"
      ]
     },
     "execution_count": 6,
     "metadata": {},
     "output_type": "execute_result"
    }
   ],
   "source": [
    "class Triangle: \n",
    "    def __init__(self, a, b, c):\n",
    "        self.a = a   \n",
    "        self.b = b   \n",
    "        self.c = c\n",
    "class Area(Triangle):\n",
    "        def get_area(self):  \n",
    "            s = (self.a+self.b+self.c) / 2 \n",
    "            return ((s*(s-self.a)*(s-self.b)*(s-self.c))**0.5) \n",
    "area = Area(6,5,4)\n",
    "area.get_area()"
   ]
  },
  {
   "cell_type": "markdown",
   "metadata": {},
   "source": [
    "1.2\n",
    "Write a function filter_long_words() that takes a list of words and an integer n and returns the list\n",
    "of words that are longer than n.\n"
   ]
  },
  {
   "cell_type": "code",
   "execution_count": 7,
   "metadata": {},
   "outputs": [
    {
     "name": "stdout",
     "output_type": "stream",
     "text": [
      "['quick', 'brown', 'jumps', 'over', 'lazy']\n"
     ]
    }
   ],
   "source": [
    "def long_words(n, str):  \n",
    "    word_len = []  \n",
    "    txt = str.split(\" \")  \n",
    "    for x in txt:  \n",
    "        if len(x) > n:  \n",
    "            word_len.append(x)  \n",
    "    return word_len   \n",
    "print(long_words(3, \"The quick brown fox jumps over the lazy dog\"))"
   ]
  },
  {
   "cell_type": "markdown",
   "metadata": {},
   "source": [
    "2.1\n",
    "Write a Python program using function concept that maps list of words into a list of integers\n",
    "representing the lengths of the corresponding words .\n"
   ]
  },
  {
   "cell_type": "code",
   "execution_count": 10,
   "metadata": {},
   "outputs": [
    {
     "data": {
      "text/plain": [
       "[5, 4, 5]"
      ]
     },
     "execution_count": 10,
     "metadata": {},
     "output_type": "execute_result"
    }
   ],
   "source": [
    "list(map(len, ['abc4d', 'dear', 'fight']))"
   ]
  },
  {
   "cell_type": "markdown",
   "metadata": {},
   "source": [
    "2.2 Write a Python function which takes a character (i.e. a string of length 1) and returns True if it is\n",
    "a vowel, False otherwise.\n"
   ]
  },
  {
   "cell_type": "code",
   "execution_count": 11,
   "metadata": {},
   "outputs": [
    {
     "name": "stdout",
     "output_type": "stream",
     "text": [
      "Enter a letter: e\n",
      "True\n"
     ]
    }
   ],
   "source": [
    "def is_vowel(letter):\n",
    "    if letter.lower() in 'aeiou':\n",
    "        return True\n",
    "        return False\n",
    "print(is_vowel(input(\"Enter a letter: \")))\n"
   ]
  }
 ],
 "metadata": {
  "kernelspec": {
   "display_name": "Python 3",
   "language": "python",
   "name": "python3"
  },
  "language_info": {
   "codemirror_mode": {
    "name": "ipython",
    "version": 3
   },
   "file_extension": ".py",
   "mimetype": "text/x-python",
   "name": "python",
   "nbconvert_exporter": "python",
   "pygments_lexer": "ipython3",
   "version": "3.7.0"
  }
 },
 "nbformat": 4,
 "nbformat_minor": 2
}
